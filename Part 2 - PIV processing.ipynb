{
 "cells": [
  {
   "cell_type": "markdown",
   "metadata": {},
   "source": [
    "# LSPIV - Part 2: PIV processing\n",
    "*GH Gerritsen*\n",
    "___\n",
    "\n",
    "After acquiring the individual frames, velocity fields are determined using the `OpenPIV` library [1]. OpenPIV is still in its developing fase and new features to the package can be are added. The coding used in this notebook is based on OpenPIV `v0.21.3`. \n",
    "\n",
    "The PIV process in its schematic form is visualised in the figure below. The imagery is divided into gridcells with a set size and overlap. The similarity of the grid cells in two sequential images -- based on the presence of seeds in the form of e.g. debris, leaves, or airbubbles -- are used to estimate displacements. For each image pair a velocity field can be determined.\n",
    "\n",
    "<img src='LSPIV visual.jpg' width=\"750\">\n",
    "\n",
    "This notebook uses the frames from the folder `frames`, and saves for each frame pair a .txt file in the folder `files`, which will be created if non-existent."
   ]
  },
  {
   "cell_type": "code",
   "execution_count": 1,
   "metadata": {},
   "outputs": [],
   "source": [
    "import os\n",
    "import numpy as np\n",
    "import pandas as pd\n",
    "from tqdm import tqdm\n",
    "from openpiv import tools\n",
    "\n",
    "import pivprocessing as pivpro"
   ]
  },
  {
   "cell_type": "code",
   "execution_count": 2,
   "metadata": {},
   "outputs": [],
   "source": [
    "dir_frames = 'frames'\n",
    "dir_saves = 'files'"
   ]
  },
  {
   "cell_type": "code",
   "execution_count": 3,
   "metadata": {},
   "outputs": [],
   "source": [
    "if not os.path.exists(dir_saves):\n",
    "    os.mkdir(dir_saves)"
   ]
  },
  {
   "cell_type": "markdown",
   "metadata": {},
   "source": [
    "For the PIV process, several parameters have to be determined. These parameters are:\n",
    "\n",
    "- `windowsize`: size of the individual (square) grid cells in pixels.\n",
    "- `searchsize`: size of the search area in pixels in which the location with the highest similarity is found. In v0.21.3 the search area has to be the same as the windowsize. In later versions the possibility is provided to adjust the search area to other (non-square) dimensions.\n",
    "- `overlap`: overlap over the grid cells in pixels.\n",
    "- `frame_rate`: frame rate of the video in frames per second (fps).\n",
    "- `scaling_factor`: amount of pixels per meter (PPM in the previous notebook).\n",
    "- `threshold`: threshold for which signal-to-noise ratio results are filtered"
   ]
  },
  {
   "cell_type": "code",
   "execution_count": 4,
   "metadata": {},
   "outputs": [],
   "source": [
    "# set-up parameters\n",
    "winsize = 60             # 60 centimetres if PPM = 100\n",
    "searchsize = winsize     # same as winsize in v0.21.3\n",
    "overlap = 30             # overlap of grid cells\n",
    "frame_rate = 25          # frame rate video\n",
    "scaling_factor = 100     # pixels per meter (PPM)\n",
    "threshold = 1.3          # signal-to-noise ratio at which results are filtered out"
   ]
  },
  {
   "cell_type": "markdown",
   "metadata": {},
   "source": [
    "After setting up the parameters, the PIV processing can be applied. The output of this process are `.txt` files containing for each grid cell the following characteristics:\n",
    "\n",
    "- x-coordinates of the centre of the grid cell,\n",
    "- y-coordinates of the centre of the grid cell,\n",
    "- x-component of the found surface flow velocity,\n",
    "- y-component of the found surface flow velocities,\n",
    "- signal-to-noise ratio result used for of the similarity process."
   ]
  },
  {
   "cell_type": "code",
   "execution_count": 5,
   "metadata": {},
   "outputs": [
    {
     "name": "stderr",
     "output_type": "stream",
     "text": [
      "100%|████████████████████████████████████████████████████████████████████████████████| 118/118 [02:12<00:00,  1.12s/it]\n"
     ]
    }
   ],
   "source": [
    "# import the names and number of frames\n",
    "frames = os.listdir(dir_frames)\n",
    "N = len(frames)-1\n",
    "\n",
    "for n in tqdm(range(N)):\n",
    "    # define the two sequential frames which are used to estimate the velocity field\n",
    "    frame_0 = tools.imread(os.path.join(dir_frames,str(frames[n])))\n",
    "    frame_1 = tools.imread(os.path.join(dir_frames,str(frames[n+1])))\n",
    "\n",
    "    # PIV processing\n",
    "    x, y, u, v, sig2noise = pivpro.PIV(frame_0, frame_1, winsize, searchsize,\n",
    "                                       overlap, frame_rate, scaling_factor,\n",
    "                                       threshold, output='fil')\n",
    "\n",
    "    # save results in a text file\n",
    "    tools.save(x,\n",
    "               y,\n",
    "               u,\n",
    "               v,\n",
    "               sig2noise,\n",
    "               os.path.join(dir_saves, str(format(n).zfill(6))+'.txt'))"
   ]
  },
  {
   "cell_type": "markdown",
   "metadata": {},
   "source": [
    "___\n",
    "[1] OpenPIV documentation - https://openpiv.readthedocs.io/en/latest/index.html"
   ]
  }
 ],
 "metadata": {
  "kernelspec": {
   "display_name": "Python 3",
   "language": "python",
   "name": "python3"
  },
  "language_info": {
   "codemirror_mode": {
    "name": "ipython",
    "version": 3
   },
   "file_extension": ".py",
   "mimetype": "text/x-python",
   "name": "python",
   "nbconvert_exporter": "python",
   "pygments_lexer": "ipython3",
   "version": "3.7.6"
  }
 },
 "nbformat": 4,
 "nbformat_minor": 4
}
